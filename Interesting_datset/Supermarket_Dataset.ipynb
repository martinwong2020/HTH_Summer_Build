{
 "cells": [
  {
   "cell_type": "markdown",
   "id": "32435709",
   "metadata": {},
   "source": [
    "No. | Question\n",
    ":-:|:-\n",
    "1 | Do members often spend more at the supermarket than those that are normal?\n",
    "2 | Which payment method yields an average high purchase rate?\n",
    "3 | What are the top 3 cities that yield the most gross profit?\n",
    "4 | Who are most likely to be customers of certain category spenders?\n",
    "5 | Which category type yields the most income and most unit amount?\n",
    "6 | Do members spend more than normal status?\n",
    "7 | What is each city's female to male rate?\n",
    "8 | What is each city's member to normal rate?\n",
    "9 | What is the average time of each product line purchase?\n",
    "10| Is there a correlation of payment method with customer type and time?"
   ]
  },
  {
   "cell_type": "code",
   "execution_count": 39,
   "id": "6fd1cbf9",
   "metadata": {},
   "outputs": [
    {
     "data": {
      "text/html": [
       "<div>\n",
       "<style scoped>\n",
       "    .dataframe tbody tr th:only-of-type {\n",
       "        vertical-align: middle;\n",
       "    }\n",
       "\n",
       "    .dataframe tbody tr th {\n",
       "        vertical-align: top;\n",
       "    }\n",
       "\n",
       "    .dataframe thead th {\n",
       "        text-align: right;\n",
       "    }\n",
       "</style>\n",
       "<table border=\"1\" class=\"dataframe\">\n",
       "  <thead>\n",
       "    <tr style=\"text-align: right;\">\n",
       "      <th></th>\n",
       "      <th>Invoice ID</th>\n",
       "      <th>Branch</th>\n",
       "      <th>City</th>\n",
       "      <th>Customer type</th>\n",
       "      <th>Gender</th>\n",
       "      <th>Product line</th>\n",
       "      <th>Unit price</th>\n",
       "      <th>Quantity</th>\n",
       "      <th>Tax 5%</th>\n",
       "      <th>Total</th>\n",
       "      <th>Date</th>\n",
       "      <th>Time</th>\n",
       "      <th>Payment</th>\n",
       "      <th>cogs</th>\n",
       "      <th>gross margin percentage</th>\n",
       "      <th>gross income</th>\n",
       "      <th>Rating</th>\n",
       "    </tr>\n",
       "  </thead>\n",
       "  <tbody>\n",
       "    <tr>\n",
       "      <th>0</th>\n",
       "      <td>750-67-8428</td>\n",
       "      <td>A</td>\n",
       "      <td>Yangon</td>\n",
       "      <td>Member</td>\n",
       "      <td>Female</td>\n",
       "      <td>Health and beauty</td>\n",
       "      <td>74.69</td>\n",
       "      <td>7</td>\n",
       "      <td>26.1415</td>\n",
       "      <td>548.9715</td>\n",
       "      <td>1/5/2019</td>\n",
       "      <td>13:08</td>\n",
       "      <td>Ewallet</td>\n",
       "      <td>522.83</td>\n",
       "      <td>4.761905</td>\n",
       "      <td>26.1415</td>\n",
       "      <td>9.1</td>\n",
       "    </tr>\n",
       "    <tr>\n",
       "      <th>1</th>\n",
       "      <td>226-31-3081</td>\n",
       "      <td>C</td>\n",
       "      <td>Naypyitaw</td>\n",
       "      <td>Normal</td>\n",
       "      <td>Female</td>\n",
       "      <td>Electronic accessories</td>\n",
       "      <td>15.28</td>\n",
       "      <td>5</td>\n",
       "      <td>3.8200</td>\n",
       "      <td>80.2200</td>\n",
       "      <td>3/8/2019</td>\n",
       "      <td>10:29</td>\n",
       "      <td>Cash</td>\n",
       "      <td>76.40</td>\n",
       "      <td>4.761905</td>\n",
       "      <td>3.8200</td>\n",
       "      <td>9.6</td>\n",
       "    </tr>\n",
       "    <tr>\n",
       "      <th>2</th>\n",
       "      <td>631-41-3108</td>\n",
       "      <td>A</td>\n",
       "      <td>Yangon</td>\n",
       "      <td>Normal</td>\n",
       "      <td>Male</td>\n",
       "      <td>Home and lifestyle</td>\n",
       "      <td>46.33</td>\n",
       "      <td>7</td>\n",
       "      <td>16.2155</td>\n",
       "      <td>340.5255</td>\n",
       "      <td>3/3/2019</td>\n",
       "      <td>13:23</td>\n",
       "      <td>Credit card</td>\n",
       "      <td>324.31</td>\n",
       "      <td>4.761905</td>\n",
       "      <td>16.2155</td>\n",
       "      <td>7.4</td>\n",
       "    </tr>\n",
       "    <tr>\n",
       "      <th>3</th>\n",
       "      <td>123-19-1176</td>\n",
       "      <td>A</td>\n",
       "      <td>Yangon</td>\n",
       "      <td>Member</td>\n",
       "      <td>Male</td>\n",
       "      <td>Health and beauty</td>\n",
       "      <td>58.22</td>\n",
       "      <td>8</td>\n",
       "      <td>23.2880</td>\n",
       "      <td>489.0480</td>\n",
       "      <td>1/27/2019</td>\n",
       "      <td>20:33</td>\n",
       "      <td>Ewallet</td>\n",
       "      <td>465.76</td>\n",
       "      <td>4.761905</td>\n",
       "      <td>23.2880</td>\n",
       "      <td>8.4</td>\n",
       "    </tr>\n",
       "    <tr>\n",
       "      <th>4</th>\n",
       "      <td>373-73-7910</td>\n",
       "      <td>A</td>\n",
       "      <td>Yangon</td>\n",
       "      <td>Normal</td>\n",
       "      <td>Male</td>\n",
       "      <td>Sports and travel</td>\n",
       "      <td>86.31</td>\n",
       "      <td>7</td>\n",
       "      <td>30.2085</td>\n",
       "      <td>634.3785</td>\n",
       "      <td>2/8/2019</td>\n",
       "      <td>10:37</td>\n",
       "      <td>Ewallet</td>\n",
       "      <td>604.17</td>\n",
       "      <td>4.761905</td>\n",
       "      <td>30.2085</td>\n",
       "      <td>5.3</td>\n",
       "    </tr>\n",
       "    <tr>\n",
       "      <th>...</th>\n",
       "      <td>...</td>\n",
       "      <td>...</td>\n",
       "      <td>...</td>\n",
       "      <td>...</td>\n",
       "      <td>...</td>\n",
       "      <td>...</td>\n",
       "      <td>...</td>\n",
       "      <td>...</td>\n",
       "      <td>...</td>\n",
       "      <td>...</td>\n",
       "      <td>...</td>\n",
       "      <td>...</td>\n",
       "      <td>...</td>\n",
       "      <td>...</td>\n",
       "      <td>...</td>\n",
       "      <td>...</td>\n",
       "      <td>...</td>\n",
       "    </tr>\n",
       "    <tr>\n",
       "      <th>995</th>\n",
       "      <td>233-67-5758</td>\n",
       "      <td>C</td>\n",
       "      <td>Naypyitaw</td>\n",
       "      <td>Normal</td>\n",
       "      <td>Male</td>\n",
       "      <td>Health and beauty</td>\n",
       "      <td>40.35</td>\n",
       "      <td>1</td>\n",
       "      <td>2.0175</td>\n",
       "      <td>42.3675</td>\n",
       "      <td>1/29/2019</td>\n",
       "      <td>13:46</td>\n",
       "      <td>Ewallet</td>\n",
       "      <td>40.35</td>\n",
       "      <td>4.761905</td>\n",
       "      <td>2.0175</td>\n",
       "      <td>6.2</td>\n",
       "    </tr>\n",
       "    <tr>\n",
       "      <th>996</th>\n",
       "      <td>303-96-2227</td>\n",
       "      <td>B</td>\n",
       "      <td>Mandalay</td>\n",
       "      <td>Normal</td>\n",
       "      <td>Female</td>\n",
       "      <td>Home and lifestyle</td>\n",
       "      <td>97.38</td>\n",
       "      <td>10</td>\n",
       "      <td>48.6900</td>\n",
       "      <td>1022.4900</td>\n",
       "      <td>3/2/2019</td>\n",
       "      <td>17:16</td>\n",
       "      <td>Ewallet</td>\n",
       "      <td>973.80</td>\n",
       "      <td>4.761905</td>\n",
       "      <td>48.6900</td>\n",
       "      <td>4.4</td>\n",
       "    </tr>\n",
       "    <tr>\n",
       "      <th>997</th>\n",
       "      <td>727-02-1313</td>\n",
       "      <td>A</td>\n",
       "      <td>Yangon</td>\n",
       "      <td>Member</td>\n",
       "      <td>Male</td>\n",
       "      <td>Food and beverages</td>\n",
       "      <td>31.84</td>\n",
       "      <td>1</td>\n",
       "      <td>1.5920</td>\n",
       "      <td>33.4320</td>\n",
       "      <td>2/9/2019</td>\n",
       "      <td>13:22</td>\n",
       "      <td>Cash</td>\n",
       "      <td>31.84</td>\n",
       "      <td>4.761905</td>\n",
       "      <td>1.5920</td>\n",
       "      <td>7.7</td>\n",
       "    </tr>\n",
       "    <tr>\n",
       "      <th>998</th>\n",
       "      <td>347-56-2442</td>\n",
       "      <td>A</td>\n",
       "      <td>Yangon</td>\n",
       "      <td>Normal</td>\n",
       "      <td>Male</td>\n",
       "      <td>Home and lifestyle</td>\n",
       "      <td>65.82</td>\n",
       "      <td>1</td>\n",
       "      <td>3.2910</td>\n",
       "      <td>69.1110</td>\n",
       "      <td>2/22/2019</td>\n",
       "      <td>15:33</td>\n",
       "      <td>Cash</td>\n",
       "      <td>65.82</td>\n",
       "      <td>4.761905</td>\n",
       "      <td>3.2910</td>\n",
       "      <td>4.1</td>\n",
       "    </tr>\n",
       "    <tr>\n",
       "      <th>999</th>\n",
       "      <td>849-09-3807</td>\n",
       "      <td>A</td>\n",
       "      <td>Yangon</td>\n",
       "      <td>Member</td>\n",
       "      <td>Female</td>\n",
       "      <td>Fashion accessories</td>\n",
       "      <td>88.34</td>\n",
       "      <td>7</td>\n",
       "      <td>30.9190</td>\n",
       "      <td>649.2990</td>\n",
       "      <td>2/18/2019</td>\n",
       "      <td>13:28</td>\n",
       "      <td>Cash</td>\n",
       "      <td>618.38</td>\n",
       "      <td>4.761905</td>\n",
       "      <td>30.9190</td>\n",
       "      <td>6.6</td>\n",
       "    </tr>\n",
       "  </tbody>\n",
       "</table>\n",
       "<p>1000 rows × 17 columns</p>\n",
       "</div>"
      ],
      "text/plain": [
       "      Invoice ID Branch       City Customer type  Gender  \\\n",
       "0    750-67-8428      A     Yangon        Member  Female   \n",
       "1    226-31-3081      C  Naypyitaw        Normal  Female   \n",
       "2    631-41-3108      A     Yangon        Normal    Male   \n",
       "3    123-19-1176      A     Yangon        Member    Male   \n",
       "4    373-73-7910      A     Yangon        Normal    Male   \n",
       "..           ...    ...        ...           ...     ...   \n",
       "995  233-67-5758      C  Naypyitaw        Normal    Male   \n",
       "996  303-96-2227      B   Mandalay        Normal  Female   \n",
       "997  727-02-1313      A     Yangon        Member    Male   \n",
       "998  347-56-2442      A     Yangon        Normal    Male   \n",
       "999  849-09-3807      A     Yangon        Member  Female   \n",
       "\n",
       "               Product line  Unit price  Quantity   Tax 5%      Total  \\\n",
       "0         Health and beauty       74.69         7  26.1415   548.9715   \n",
       "1    Electronic accessories       15.28         5   3.8200    80.2200   \n",
       "2        Home and lifestyle       46.33         7  16.2155   340.5255   \n",
       "3         Health and beauty       58.22         8  23.2880   489.0480   \n",
       "4         Sports and travel       86.31         7  30.2085   634.3785   \n",
       "..                      ...         ...       ...      ...        ...   \n",
       "995       Health and beauty       40.35         1   2.0175    42.3675   \n",
       "996      Home and lifestyle       97.38        10  48.6900  1022.4900   \n",
       "997      Food and beverages       31.84         1   1.5920    33.4320   \n",
       "998      Home and lifestyle       65.82         1   3.2910    69.1110   \n",
       "999     Fashion accessories       88.34         7  30.9190   649.2990   \n",
       "\n",
       "          Date   Time      Payment    cogs  gross margin percentage  \\\n",
       "0     1/5/2019  13:08      Ewallet  522.83                 4.761905   \n",
       "1     3/8/2019  10:29         Cash   76.40                 4.761905   \n",
       "2     3/3/2019  13:23  Credit card  324.31                 4.761905   \n",
       "3    1/27/2019  20:33      Ewallet  465.76                 4.761905   \n",
       "4     2/8/2019  10:37      Ewallet  604.17                 4.761905   \n",
       "..         ...    ...          ...     ...                      ...   \n",
       "995  1/29/2019  13:46      Ewallet   40.35                 4.761905   \n",
       "996   3/2/2019  17:16      Ewallet  973.80                 4.761905   \n",
       "997   2/9/2019  13:22         Cash   31.84                 4.761905   \n",
       "998  2/22/2019  15:33         Cash   65.82                 4.761905   \n",
       "999  2/18/2019  13:28         Cash  618.38                 4.761905   \n",
       "\n",
       "     gross income  Rating  \n",
       "0         26.1415     9.1  \n",
       "1          3.8200     9.6  \n",
       "2         16.2155     7.4  \n",
       "3         23.2880     8.4  \n",
       "4         30.2085     5.3  \n",
       "..            ...     ...  \n",
       "995        2.0175     6.2  \n",
       "996       48.6900     4.4  \n",
       "997        1.5920     7.7  \n",
       "998        3.2910     4.1  \n",
       "999       30.9190     6.6  \n",
       "\n",
       "[1000 rows x 17 columns]"
      ]
     },
     "execution_count": 39,
     "metadata": {},
     "output_type": "execute_result"
    }
   ],
   "source": [
    "import pandas\n",
    "\n",
    "# pandas.options.display.max_columns = None\n",
    "# pandas.options.display.max_rows = None\n",
    "\n",
    "Supermarket_path = pandas.read_csv(\"supermarket_sales.csv\")\n",
    "Supermarket_path"
   ]
  },
  {
   "cell_type": "code",
   "execution_count": 40,
   "id": "9a713e2d",
   "metadata": {},
   "outputs": [
    {
     "data": {
      "text/plain": [
       "True"
      ]
     },
     "execution_count": 40,
     "metadata": {},
     "output_type": "execute_result"
    }
   ],
   "source": [
    "#Do members often spend more at the supermarket than those that are normal?\n",
    "members=Supermarket_path[Supermarket_path[\"Customer type\"]==\"Member\"]\n",
    "member_avg=members[\"Total\"].mean()\n",
    "normal=Supermarket_path[Supermarket_path[\"Customer type\"]==\"Normal\"]\n",
    "normal_avg=normal[\"Total\"].mean()\n",
    "Result=member_avg>normal_avg\n",
    "Result"
   ]
  },
  {
   "cell_type": "code",
   "execution_count": 41,
   "id": "8a447518",
   "metadata": {},
   "outputs": [
    {
     "data": {
      "text/plain": [
       "'Credit card'"
      ]
     },
     "execution_count": 41,
     "metadata": {},
     "output_type": "execute_result"
    }
   ],
   "source": [
    "#Which payment method yields an average high quantity rate?\n",
    "q2_info=Supermarket_path[\"Payment\"].unique()\n",
    "payment=q2_info[0]\n",
    "for i in range(0,len(q2_info)):\n",
    "    if((Supermarket_path[ Supermarket_path[\"Payment\"]==q2_info[i]][\"Quantity\"].mean())>(Supermarket_path[ Supermarket_path[\"Payment\"]==payment][\"Quantity\"].mean())):\n",
    "        payment=q2_info[i]\n",
    "payment"
   ]
  },
  {
   "cell_type": "code",
   "execution_count": 42,
   "id": "cb964ada",
   "metadata": {},
   "outputs": [
    {
     "data": {
      "text/plain": [
       "'Naypyitaw'"
      ]
     },
     "execution_count": 42,
     "metadata": {},
     "output_type": "execute_result"
    }
   ],
   "source": [
    "#What is the top city that yield the most gross profit?\n",
    "q3_info=Supermarket_path[\"City\"].unique()\n",
    "gross_profit=q3_info[0]\n",
    "for i in range (0, len(q3_info)):\n",
    "    if((Supermarket_path[Supermarket_path[\"City\"]==q3_info[i]][\"gross income\"].mean())>(Supermarket_path[Supermarket_path[\"City\"]==gross_profit][\"gross income\"].mean())):\n",
    "        gross_profit=q3_info[i]\n",
    "gross_profit"
   ]
  },
  {
   "cell_type": "code",
   "execution_count": 43,
   "id": "dbad36cf",
   "metadata": {},
   "outputs": [
    {
     "data": {
      "text/plain": [
       "{'Health and beauty': 'Normal',\n",
       " 'Electronic accessories': 'Normal',\n",
       " 'Home and lifestyle': 'Member',\n",
       " 'Sports and travel': 'Member',\n",
       " 'Food and beverages': 'Member',\n",
       " 'Fashion accessories': 'Normal'}"
      ]
     },
     "execution_count": 43,
     "metadata": {},
     "output_type": "execute_result"
    }
   ],
   "source": [
    "# Who are most likely to be customers of certain category spenders?\n",
    "import statistics\n",
    "categories=Supermarket_path[\"Product line\"].unique()\n",
    "customers=Supermarket_path[\"Customer type\"].unique()\n",
    "result={}\n",
    "for i in range(0, len(categories)):\n",
    "    info=statistics.mode(Supermarket_path[Supermarket_path[\"Product line\"]==categories[i]][\"Customer type\"])\n",
    "    result[categories[i]]=info\n",
    "result\n",
    "    "
   ]
  },
  {
   "cell_type": "code",
   "execution_count": 44,
   "id": "61615a66",
   "metadata": {},
   "outputs": [
    {
     "data": {
      "text/plain": [
       "{'Most Income': 'Home and lifestyle', 'Most Unit': 'Health and beauty'}"
      ]
     },
     "execution_count": 44,
     "metadata": {},
     "output_type": "execute_result"
    }
   ],
   "source": [
    "# Which category type yields the most income and most unit amount?\n",
    "categories=Supermarket_path[\"Product line\"].unique()\n",
    "most_income=categories[0]\n",
    "most_unit=categories[0]\n",
    "for i in range(0,len(categories)):\n",
    "    if(Supermarket_path[Supermarket_path[\"Product line\"]==categories[i]][\"gross income\"].mean()>Supermarket_path[Supermarket_path[\"Product line\"]==most_income][\"gross income\"].mean()):\n",
    "        most_income=categories[i]\n",
    "    if(Supermarket_path[Supermarket_path[\"Quantity\"]==categories[i]][\"Quantity\"].mean()>Supermarket_path[Supermarket_path[\"Quantity\"]==most_unit][\"Quantity\"].mean()):\n",
    "        most_unit=categories[i]\n",
    "result={\n",
    "    \"Most Income\":most_income,\n",
    "    \"Most Unit\" : most_unit\n",
    "}\n",
    "result\n",
    "# info"
   ]
  },
  {
   "cell_type": "code",
   "execution_count": 45,
   "id": "5654da60",
   "metadata": {},
   "outputs": [
    {
     "name": "stdout",
     "output_type": "stream",
     "text": [
      "True\n"
     ]
    }
   ],
   "source": [
    "# Do members spend more than normal status?\n",
    "customers=Supermarket_path[\"Customer type\"].unique()\n",
    "customers\n",
    "if(Supermarket_path[Supermarket_path[\"Customer type\"]==\"Member\"][\"Total\"].mean()>Supermarket_path[Supermarket_path[\"Customer type\"]==\"Normal\"][\"Total\"].mean()):\n",
    "    print(True)\n",
    "else:\n",
    "    print(False)"
   ]
  },
  {
   "cell_type": "code",
   "execution_count": 46,
   "id": "470e1875",
   "metadata": {},
   "outputs": [
    {
     "data": {
      "text/plain": [
       "{'Yangon': '161/179', 'Naypyitaw': '178/150', 'Mandalay': '162/170'}"
      ]
     },
     "execution_count": 46,
     "metadata": {},
     "output_type": "execute_result"
    }
   ],
   "source": [
    "# What is each city's female to male rate?\n",
    "q7_info={}\n",
    "Cities=Supermarket_path[\"City\"].unique()\n",
    "for i in range(0,len(Cities)):\n",
    "    result=Supermarket_path[Supermarket_path[\"City\"]==Cities[i]]\n",
    "    fem_data=result[result[\"Gender\"]==\"Female\"][\"Gender\"].count()\n",
    "    male_data=result[result[\"Gender\"]==\"Male\"][\"Gender\"].count()\n",
    "    q7_info[Cities[i]]=str(fem_data)+\"/\"+str(male_data)\n",
    "q7_info\n",
    "    \n",
    "\n",
    "\n"
   ]
  },
  {
   "cell_type": "code",
   "execution_count": 47,
   "id": "8c947253",
   "metadata": {},
   "outputs": [
    {
     "data": {
      "text/plain": [
       "{'Yangon': '167/173', 'Naypyitaw': '169/159', 'Mandalay': '165/167'}"
      ]
     },
     "execution_count": 47,
     "metadata": {},
     "output_type": "execute_result"
    }
   ],
   "source": [
    "#What is each city's member to normal rate?\n",
    "q8_info={}\n",
    "Cities=Supermarket_path[\"City\"].unique()\n",
    "for i in range(0,len(Cities)):\n",
    "    result=Supermarket_path[Supermarket_path[\"City\"]==Cities[i]]\n",
    "    member_data=result[result[\"Customer type\"]==\"Member\"][\"Customer type\"].count()\n",
    "    normal_data=result[result[\"Customer type\"]==\"Normal\"][\"Customer type\"].count()\n",
    "    q8_info[Cities[i]]=str(member_data)+\"/\"+str(normal_data)\n",
    "q8_info"
   ]
  },
  {
   "cell_type": "code",
   "execution_count": 48,
   "id": "66b4166b",
   "metadata": {},
   "outputs": [
    {
     "data": {
      "text/plain": [
       "{'Health and beauty': '14:42',\n",
       " 'Electronic accessories': '18:22',\n",
       " 'Home and lifestyle': '11:26',\n",
       " 'Sports and travel': '13:05',\n",
       " 'Food and beverages': '20:29',\n",
       " 'Fashion accessories': '19:39'}"
      ]
     },
     "execution_count": 48,
     "metadata": {},
     "output_type": "execute_result"
    }
   ],
   "source": [
    "#What is the most common time of each product line purchase?\n",
    "q9_info={}\n",
    "products=Supermarket_path[\"Product line\"].unique()\n",
    "for i in products:\n",
    "    time=statistics.mode(Supermarket_path[Supermarket_path[\"Product line\"]==i][\"Time\"])\n",
    "    q9_info[i]=time\n",
    "q9_info"
   ]
  },
  {
   "cell_type": "code",
   "execution_count": 65,
   "id": "36793fee",
   "metadata": {},
   "outputs": [
    {
     "name": "stdout",
     "output_type": "stream",
     "text": [
      "There are not much correlation as the values are closer to 0\n",
      "                Payment  Customer type      Time\n",
      "Payment        1.000000       0.018073  0.045903\n",
      "Customer type  0.018073       1.000000 -0.020162\n",
      "Time           0.045903      -0.020162  1.000000\n"
     ]
    },
    {
     "data": {
      "text/plain": [
       "<AxesSubplot:>"
      ]
     },
     "execution_count": 65,
     "metadata": {},
     "output_type": "execute_result"
    },
    {
     "data": {
      "image/png": "[encoded data removed]",
      "text/plain": [
       "<Figure size 432x288 with 2 Axes>"
      ]
     },
     "metadata": {
      "needs_background": "light"
     },
     "output_type": "display_data"
    }
   ],
   "source": [
    "#Is there a correlation of payment method with customer type and time?\n",
    "import numpy as np\n",
    "import seaborn as sns\n",
    "df=pandas.DataFrame({\n",
    "    'Payment':Supermarket_path[\"Payment\"],\n",
    "    'Customer type':Supermarket_path[\"Customer type\"],\n",
    "    'Time':Supermarket_path[\"Time\"]\n",
    "})\n",
    "df[\"Payment\"]=df[\"Payment\"].astype('category').cat.codes\n",
    "df[\"Customer type\"]=df[\"Customer type\"].astype('category').cat.codes\n",
    "df[\"Time\"]=df[\"Time\"].astype('category').cat.codes\n",
    "print(\"There are not much correlation as the values are closer to 0\")\n",
    "print(df.corr())\n",
    "sns.heatmap(df.corr(),annot=True,cmap='viridis')\n",
    "# df\n",
    "\n",
    "# np.corrcoef(paymentmethod,customertype)\n"
   ]
  },
  {
   "cell_type": "code",
   "execution_count": null,
   "id": "231523af",
   "metadata": {},
   "outputs": [],
   "source": []
  }
 ],
 "metadata": {
  "kernelspec": {
   "display_name": "Python 3 (ipykernel)",
   "language": "python",
   "name": "python3"
  },
  "language_info": {
   "codemirror_mode": {
    "name": "ipython",
    "version": 3
   },
   "file_extension": ".py",
   "mimetype": "text/x-python",
   "name": "python",
   "nbconvert_exporter": "python",
   "pygments_lexer": "ipython3",
   "version": "3.10.5"
  },
  "vscode": {
   "interpreter": {
    "hash": "865d8b2eb28e274047ba64063dfb6a2aabf0dfec4905d304d7a76618dae6fdd4"
   }
  }
 },
 "nbformat": 4,
 "nbformat_minor": 5
}
